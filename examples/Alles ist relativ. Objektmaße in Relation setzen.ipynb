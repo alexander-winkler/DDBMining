{
 "cells": [
  {
   "cell_type": "markdown",
   "id": "7f62a191",
   "metadata": {},
   "source": [
    "# Alles ist relativ. Objektemaße in Relation setzen"
   ]
  },
  {
   "cell_type": "markdown",
   "id": "30111fa3",
   "metadata": {},
   "source": [
    "Im Folgenden Beispiel sollen die Maße von Objekten aus der [Deutschen Digitalen Bibliothek](https://www.deutsche-digitale-bibliothek.de) in Relation zu einer anderen Bezugsgröße gesetzt werden.\n",
    "Wir wollen also Nik, eine 1,71 m große Person (deutscher Durchschnitt laut [Wikipedia](https://en.wikipedia.org/wiki/Average_human_height_by_country)), auf unsere Bilder schauen lassen.\n",
    "\n",
    "Ein Bild von Nik findet sich auf [Wikimedia Commons](https://commons.wikimedia.org/wiki/File:Person_(13091)_-_The_Noun_Project.svg).\n",
    "\n",
    "![Nik](https://upload.wikimedia.org/wikipedia/commons/thumb/9/97/Person_%2813091%29_-_The_Noun_Project.svg/512px-Person_%2813091%29_-_The_Noun_Project.svg.png)"
   ]
  },
  {
   "cell_type": "code",
   "execution_count": null,
   "id": "457f4cf3",
   "metadata": {},
   "outputs": [],
   "source": [
    "# Import der benötigten Module\n",
    "import requests\n",
    "from PIL import Image, ImageDraw, ImageFont\n",
    "from io import BytesIO\n",
    "from lxml import etree\n",
    "from ddbAPI_helpers import search2API, iterateAPICall, getItem"
   ]
  },
  {
   "cell_type": "code",
   "execution_count": null,
   "id": "89df38cc",
   "metadata": {},
   "outputs": [],
   "source": [
    "# Download des Bildes \n",
    "nik_img = requests.get(\"https://upload.wikimedia.org/wikipedia/commons/thumb/9/97/Person_%2813091%29_-_The_Noun_Project.svg/512px-Person_%2813091%29_-_The_Noun_Project.svg.png\")\n",
    "nik_img = Image.open(BytesIO(nik_img.content)).convert('RGBA')\n",
    "\n",
    "nik_real_height = 171 # Größe in cm\n",
    "nik_img_height = nik_img.height # Höhe des Bildes in Pixel"
   ]
  },
  {
   "cell_type": "markdown",
   "id": "4ea8e944",
   "metadata": {},
   "source": [
    "## Download der Bilder aus der Deutschen Digitalen Bibliothek\n",
    "\n",
    "Als Beispiel sollen die [390 ohne Einschränkungen verwendbaren Gemälde in der DDB](https://www.deutsche-digitale-bibliothek.de/searchresults?isThumbnailFiltered=true&query=&offset=0&facetValues%5B%5D=objecttype_fct%3DGem%C3%A4lde&facetValues%5B%5D=license_group%3Drights_001) dienen."
   ]
  },
  {
   "cell_type": "code",
   "execution_count": null,
   "id": "085d0893",
   "metadata": {},
   "outputs": [],
   "source": [
    "api_key = \"API-KEY\""
   ]
  },
  {
   "cell_type": "code",
   "execution_count": null,
   "id": "d21c6eda",
   "metadata": {},
   "outputs": [],
   "source": [
    "#apiurl = search2API(\"https://www.deutsche-digitale-bibliothek.de/searchresults?isThumbnailFiltered=true&query=&offset=0&facetValues%5B%5D=objecttype_fct%3DGem%C3%A4lde&facetValues%5B%5D=license_group%3Drights_001\", api_key)\n",
    "apiurl = search2API(\"https://www.deutsche-digitale-bibliothek.de/searchresults?isThumbnailFiltered=true&query=br%C3%BCcke%20museum&facetValues%5B%5D=objecttype_fct%3DGem%C3%A4lde&offset=0\", api_key)"
   ]
  },
  {
   "cell_type": "code",
   "execution_count": null,
   "id": "24b0eb9c",
   "metadata": {},
   "outputs": [],
   "source": [
    "# Download der Objektmetadaten\n",
    "paintings = iterateAPICall(apiurl, api_key)"
   ]
  },
  {
   "cell_type": "markdown",
   "id": "0f81d93c",
   "metadata": {},
   "source": [
    "Als nächstes brauchen wir (1) die Maße des Objekts und (2) die URL der Bilddatei.\n",
    "Beide Informationen sind in der Regel in den LIDO-Metadaten enthalten.\n",
    "Die Maße finden sich im Element `lido:objectMeasurementsSet`, die Bild-URL unter `lido:resourceRepresentation/lido:linkResource`.\n",
    "\n",
    "Mit untenstehendem Code werden diese Informationen aus dem LIDO-XML extrahiert.\n",
    "Bei der Gelegenheit werden auch die object-ID sowie der Objekt-Titel ermittelt, damit sie später mit ausgegeben werden können.\n",
    "\n",
    "Die Maßzahlen sind meist in Zentimetern angegeben.\n",
    "Zur Umrechnung der Gleitkommazahlen in 'richtige' `float`-Zahlen schreiben wir eine kleine Funktion `unitsConverter`, die nötigenfalls auch Meter oder Millimeter in Zentimeter umrechnet."
   ]
  },
  {
   "cell_type": "code",
   "execution_count": null,
   "id": "54d91534",
   "metadata": {},
   "outputs": [],
   "source": [
    "def unitsConverter(value:str,unit:str) -> float:\n",
    "    '''\n",
    "    Wandelt eine Zahlen- und Einheitsangabe in eine Float-Zahl und cm um\n",
    "    '''\n",
    "    value = value.replace(',','.')\n",
    "    value = float(value)\n",
    "    \n",
    "    if unit == \"mm\":\n",
    "        value = value / 100\n",
    "    if unit == \"m\":\n",
    "        value = value * 100\n",
    "    \n",
    "    return value"
   ]
  },
  {
   "cell_type": "markdown",
   "id": "93b3f8b9",
   "metadata": {},
   "source": [
    "Jetzt können wir über die Liste der Bilder iterieren und die später benötigten Informationen in einer einer neuen Liste (`list_of_paintings`) ablegen.\n",
    "Die Elemente der Liste sind 4er-Tupel mit folgenden Elementen:\n",
    "\n",
    "1. Objekt-ID\n",
    "2. Objekt-Titel\n",
    "3. Bild-URL\n",
    "4. tatsächliche Höhe des Objekts in cm\n",
    "\n",
    "Da wir nicht immer davon ausgehen können, dass alle LIDO-XML-Dateien die von uns benötigten Elemente enthalten, mussten ein paar `try`-`except`-Anweisungen eingebaut werden.\n",
    "Ansonsten würde ein fehlendes Element zum Abbruch des Skripts führen.\n",
    "\n",
    "Verarbeitet werden nur die Bilder, die die benötigten Informationen in vorgesehender Form beinhalten."
   ]
  },
  {
   "cell_type": "code",
   "execution_count": null,
   "id": "5a5f5d42",
   "metadata": {},
   "outputs": [],
   "source": [
    "# LIDO-Namespace definieren\n",
    "\n",
    "NSMAP = {'lido' : \"http://www.lido-schema.org\"}"
   ]
  },
  {
   "cell_type": "code",
   "execution_count": null,
   "id": "3d8549d3",
   "metadata": {},
   "outputs": [],
   "source": [
    "list_of_paintings"
   ]
  },
  {
   "cell_type": "code",
   "execution_count": null,
   "id": "37faeb8e",
   "metadata": {},
   "outputs": [],
   "source": [
    "list_of_paintings = []\n",
    "for p in paintings:\n",
    "    \n",
    "    object_height = None\n",
    "    img_url = None\n",
    "    \n",
    "    # Objekt-ID extrahieren und die entsprechend LIDO-Datei laden\n",
    "    object_ID = p.get('id')\n",
    "    \n",
    "    res = getItem(p.get('id'), api_key)\n",
    "    try:\n",
    "        lido = res.json().get('source').get('record').get('$')\n",
    "        lido_parsed = etree.fromstring(bytes(lido, encoding='utf-8'))\n",
    "\n",
    "        # Objekttitel\n",
    "        try:\n",
    "            objectTitle = lido_parsed.find('.//lido:titleWrap/lido:titleSet/lido:appellationValue', NSMAP).text\n",
    "        except:\n",
    "            objectTitle = \"o.T.\"\n",
    "\n",
    "        # Maße ermitteln\n",
    "        objectMeasurementSet = lido_parsed.find('.//lido:objectMeasurementsWrap/lido:objectMeasurementsSet', NSMAP)\n",
    "        try:\n",
    "            for measurementSet in objectMeasurementSet.findall('lido:objectMeasurements/lido:measurementsSet', NSMAP):\n",
    "                measurementType = measurementSet.find('lido:measurementType', NSMAP)\n",
    "                try:\n",
    "                    if measurementType.text == \"Höhe\":\n",
    "                        object_height_value = measurementSet.find('lido:measurementValue', NSMAP).text\n",
    "                        object_height_unit = measurementSet.find('lido:measurementUnit', NSMAP).text\n",
    "\n",
    "                        object_height = unitsConverter(object_height_value,object_height_unit)\n",
    "\n",
    "                except Exception as e:\n",
    "                    print(e)\n",
    "                    object_height = None\n",
    "\n",
    "        except Exception as e:\n",
    "            print(e)\n",
    "\n",
    "        # Bild-URL ermitteln (etwas unsauber wird hier der Einfachheit halber der erste Bild-Link verwendet,\n",
    "        # nicht unbedingt derjenige, der zum Bild mit der besten Auflösung führt\n",
    "\n",
    "        try:\n",
    "            img_url = lido_parsed.find('.//lido:resourceRepresentation/lido:linkResource', NSMAP).text\n",
    "        except Exception as e:\n",
    "            print(e)\n",
    "            img_url = None\n",
    "\n",
    "        if object_height is not None and img_url is not None:\n",
    "            list_of_paintings.append((object_ID,objectTitle,img_url,object_height))\n",
    "            print(object_ID,objectTitle,img_url,object_height)\n",
    "    except Exception as e:\n",
    "        print(e)\n",
    "        print(\"Vermutlich kein LIDO.\")"
   ]
  },
  {
   "cell_type": "markdown",
   "id": "9ceb31b7",
   "metadata": {},
   "source": [
    "## Generierung des Bildes\n",
    "\n",
    "Wir wollen Nik vor ein Bild stellen.\n",
    "Dazu benötigen wir zunächst einen weißen Hintergrund (die 'Museumswand'), auf den wir das entsprechend skalierte Objekt setzen.\n",
    "\n",
    "Dann stellen wir Nik davor.\n",
    "Die Koordinaten sind so gewählt, \n",
    "\n",
    "1. dass 15% der Bildbreite rechts über die Symmettrieachse von Nik hinausragt und\n",
    "2. dass die Unterseite des Bildes bei 85% von Niks Körpergröße liegt.\n",
    "\n",
    "Die Bildgenerierung erfolgt mit der Funktion `imgForNik`, die als Argument das oben genierte 4er-Tupel mit Objekt-ID, den Bildtitel, die Bild-URL und die Objekthöhe verlangt.\n",
    "Diese Informationen hatten wir vorhin in den Tupeln der Liste `list_of_paintings` hinterlegt."
   ]
  },
  {
   "cell_type": "code",
   "execution_count": null,
   "id": "3e680b71",
   "metadata": {},
   "outputs": [],
   "source": [
    "def imgForNik(elem:tuple) -> Image:\n",
    "    \n",
    "    object_ID, title, imgurl, object_height = elem\n",
    "    \n",
    "    # Download des Bildes\n",
    "    img = requests.get(imgurl)\n",
    "    img = Image.open(BytesIO(img.content))\n",
    "    \n",
    "    object_img_height = img.height\n",
    "    \n",
    "    print(f\"https://www.deutsche-digitale-bibliothek.de/item/{object_ID}\")\n",
    "    \n",
    "    # Größe des Bildes anpassen\n",
    "    resize_factor = nik_img_height / nik_real_height * object_height /object_img_height\n",
    "    \n",
    "    img = img.resize( [int(resize_factor * s) for s in img.size] ) \n",
    "    \n",
    "    # Erstellen des Hintergrunds für Bild und Nik\n",
    "    bg_width = 1200\n",
    "    bg_height = 800\n",
    "    background = Image.new(\"RGB\", (bg_width, bg_height), (255, 255, 255))\n",
    "    \n",
    "    # Objekt aufhängen\n",
    "    background.paste(img, (bg_width - int( nik_img.width / 2 ) - int(img.width * 0.85), bg_height - int( nik_img.height * 0.85 ) - img.height))\n",
    "    \n",
    "    # Nik ins Bild setzen\n",
    "    background.paste(nik_img,(bg_width - nik_img.width, bg_height - nik_img.height), nik_img)\n",
    "\n",
    "    # Titel ins Bild setzen\n",
    "    \n",
    "    # Titel kürzen, falls länger als n Zeichen\n",
    "    n = 30\n",
    "    if len(title) > n:\n",
    "        title = f\"{title[:n]} ...\"\n",
    "        \n",
    "    textLayer = ImageDraw.Draw(background)\n",
    "    \n",
    "    myFont = ImageFont.truetype(\"Arial.ttf\", size = 40)\n",
    " \n",
    "    textLayer.text((28, 36), title, font = myFont, fill=(0,0,0))\n",
    "    \n",
    "    display(background)\n",
    "    return background"
   ]
  },
  {
   "cell_type": "markdown",
   "id": "ae2d2618",
   "metadata": {},
   "source": [
    "Mit der `.choices()`-Methode aus dem `random`-Modul lässt sich nun eine zufällige Auswahl aus der Gemälde-Liste ziehen und entsprechend visualisieren. \n",
    "Alternativ kann man natürlich auch über die gesamte Liste iterieren und Nik vor alle Bilder stellen."
   ]
  },
  {
   "cell_type": "code",
   "execution_count": null,
   "id": "a61b245e",
   "metadata": {},
   "outputs": [],
   "source": [
    "import random"
   ]
  },
  {
   "cell_type": "code",
   "execution_count": null,
   "id": "6fd79a90",
   "metadata": {},
   "outputs": [],
   "source": [
    "for painting in random.choices(list_of_paintings, k = len(list_of_paintings)):\n",
    "    imgForNik(painting)"
   ]
  }
 ],
 "metadata": {
  "kernelspec": {
   "display_name": "Python 3.9",
   "language": "python",
   "name": "python3.9"
  },
  "language_info": {
   "codemirror_mode": {
    "name": "ipython",
    "version": 3
   },
   "file_extension": ".py",
   "mimetype": "text/x-python",
   "name": "python",
   "nbconvert_exporter": "python",
   "pygments_lexer": "ipython3",
   "version": "3.9.0"
  }
 },
 "nbformat": 4,
 "nbformat_minor": 5
}
