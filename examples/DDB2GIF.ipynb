{
 "cells": [
  {
   "cell_type": "code",
   "execution_count": 2,
   "id": "10f11456",
   "metadata": {},
   "outputs": [],
   "source": [
    "from ddbAPI_helpers import search2API, iterateAPICall # ddbAPI_helpers.py muss aktuell noch im selben Ordner wie das Notebook/Skript liegen"
   ]
  },
  {
   "cell_type": "code",
   "execution_count": 1,
   "id": "5ccf2981",
   "metadata": {},
   "outputs": [],
   "source": [
    "searchurl = \"https://www.deutsche-digitale-bibliothek.de/searchresults?query=dataset_id%3A10904480765851755bPLD&offset=0&_=1659951819810&rows=20&facetValues%5B%5D=objecttype_fct%3DSchriftprobe&facetValues%5B%5D=affiliate_fct_role%3Dp98a\""
   ]
  },
  {
   "cell_type": "code",
   "execution_count": null,
   "id": "aba6975b",
   "metadata": {},
   "outputs": [],
   "source": [
    "api_key = "
   ]
  }
 ],
 "metadata": {
  "kernelspec": {
   "display_name": "Python 3.9",
   "language": "python",
   "name": "python3.9"
  },
  "language_info": {
   "codemirror_mode": {
    "name": "ipython",
    "version": 3
   },
   "file_extension": ".py",
   "mimetype": "text/x-python",
   "name": "python",
   "nbconvert_exporter": "python",
   "pygments_lexer": "ipython3",
   "version": "3.9.0"
  }
 },
 "nbformat": 4,
 "nbformat_minor": 5
}
