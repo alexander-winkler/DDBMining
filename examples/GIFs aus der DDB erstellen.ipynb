{
 "cells": [
  {
   "cell_type": "markdown",
   "id": "7ba68ce7",
   "metadata": {},
   "source": [
    "# GIFs aus der DDB erstellen\n",
    "\n",
    "Die [Deutsche Digitale Bibliothek](https://www.deutsche-digitale-bibliothek.de/) stellt große Mengen an Bildmaterial zur kreativen Nachnutzung zur Verfügung.\n",
    "\n",
    "Im folgenden Beispiel wird demonstriert, wie aus einer Treffermenge ein GIF erzeugt werden kann.\n",
    "Als Bilder werden die im Rahmen des [digiS-Projekts \"Die Sichtbarmachung des Sichtbaren – Berlins typografisches Kulturerbe im Open Access\"](https://www.digis-berlin.de/projektpartner/archiv/projektpartner-2021/#tab-tb_qu2x406-9) von Erik Spiekermann erstellten Schriftproben verwendet."
   ]
  },
  {
   "cell_type": "code",
   "execution_count": null,
   "id": "fa36ac94",
   "metadata": {},
   "outputs": [],
   "source": [
    "# Import der Module\n",
    "from lxml import etree\n",
    "from glob import glob\n",
    "import requests\n",
    "from ddbAPI_helpers import search2API, iterateAPICall # ddbAPI_helpers.py muss aktuell noch im selben Ordner wie das Notebook/Skript liegen"
   ]
  },
  {
   "cell_type": "markdown",
   "id": "45ed30a1",
   "metadata": {},
   "source": [
    "## Download der Bilder\n",
    "\n",
    "In einem ersten Schritt sollen die Bilder zu einer bestimmten Suchanfrage heruntergeladen werden.\n",
    "Benötigt wird hierfür die URL (`searchurl`) der Suchanfrage und der [API-Key der DDB](https://www.deutsche-digitale-bibliothek.de/login?referrer=%2Fuser%2Fapikey) (`api_key`)."
   ]
  },
  {
   "cell_type": "code",
   "execution_count": 21,
   "id": "8f7dd1a4",
   "metadata": {},
   "outputs": [],
   "source": [
    "api_key = \"<API-KEY>\""
   ]
  },
  {
   "cell_type": "code",
   "execution_count": null,
   "id": "c6dd7f06",
   "metadata": {},
   "outputs": [],
   "source": [
    "searchurl = \"https://www.deutsche-digitale-bibliothek.de/searchresults?query=dataset_id%3A10904480765851755bPLD&offset=0&_=1659951819810&rows=20&facetValues%5B%5D=objecttype_fct%3DSchriftprobe&facetValues%5B%5D=affiliate_fct_role%3Dp98a\""
   ]
  },
  {
   "cell_type": "markdown",
   "id": "f569e851",
   "metadata": {},
   "source": [
    "Mit der Funktion `search2API` wird aus der URL ein API-Call generiert und dieser dann mit `iterateAPICall` iterativ durchgeführt, bis alle Objekte geladen wurden.\n",
    "Die Variable `targetdir` bezeichnet den Zielordner, in dem die zu den Objekten gehörigen LIDO-XML-Dateien gespeichert werden."
   ]
  },
  {
   "cell_type": "code",
   "execution_count": null,
   "id": "a74ce8a7",
   "metadata": {},
   "outputs": [],
   "source": [
    "apiurl = search2API(searchurl, api_key)\n",
    "objects = iterateAPICall(apiurl, api_key, download = True, targetdir = \"schriftproben\")"
   ]
  },
  {
   "cell_type": "markdown",
   "id": "ba2503e7",
   "metadata": {},
   "source": [
    "## Extraktion der Bild-URLs aus den LIDO-Dateien\n",
    "\n",
    "Damit die Bilder in größtmöglicher Auflösung heruntergeladen werden können, muss die jeweilige Bild-URL aus den LIDO-Dateien extrahiert werden.\n",
    "Im Fall unseres Datensatzes befindet sich die entsprechende Adresse im XML unter:\n",
    "\n",
    "```\n",
    "<lido:resourceWrap>\n",
    "      <lido:resourceSet lido:sortorder=\"1\">\n",
    "        <lido:resourceRepresentation lido:type=\"image_master\">\n",
    "          <lido:linkResource lido:formatResource=\"image/jpeg\">https://berlin.museum-digital.de/data/berli/images/17/202203/109742/v7-0028-109742.jpg</lido:linkResource>\n",
    "        </lido:resourceRepresentation>\n",
    "      </lido:resourceSet>\n",
    "</lido:resourceWrap>\n",
    "          \n",
    "```"
   ]
  },
  {
   "cell_type": "code",
   "execution_count": null,
   "id": "1b887ce7",
   "metadata": {},
   "outputs": [],
   "source": [
    "# Definition des LIDO-Namespace\n",
    "NSMAP = { 'lido' : \"http://www.lido-schema.org\"}"
   ]
  },
  {
   "cell_type": "markdown",
   "id": "ada6bab7",
   "metadata": {},
   "source": [
    "Der folgende Abschnitt liest die heruntergeladenen XML-Dateien ein, extrahiert die jeweilige Bild-URL (in die Variable `img_url`), lädt das Bild herunter (`requests.get(img_url)`) und speichert sie im selben Ordner ab."
   ]
  },
  {
   "cell_type": "code",
   "execution_count": null,
   "id": "7567e3dd",
   "metadata": {},
   "outputs": [],
   "source": [
    "files = glob('schriftproben/*.xml')\n",
    "for o in files:\n",
    "    tree = etree.parse(o)\n",
    "    img_url = tree.find('//lido:resourceRepresentation[@lido:type=\"image_master\"]/lido:linkResource', NSMAP).text\n",
    "    target_path = o.replace('.xml','.jpg')\n",
    "    with open(target_path, 'wb') as OUT:\n",
    "        res = requests.get(img_url)\n",
    "        OUT.write(res.content)"
   ]
  },
  {
   "cell_type": "markdown",
   "id": "3adc885e",
   "metadata": {},
   "source": [
    "Die Bilder liegen nun im Ordner `schriftproben`."
   ]
  },
  {
   "cell_type": "markdown",
   "id": "7b4fc8b3",
   "metadata": {},
   "source": [
    "## Erzeugung der GIFs\n",
    "\n",
    "GIFs lassen sich mit dem [Pillow-Modul](https://pillow.readthedocs.io) erzeugen.\n",
    "\n",
    "Wir iterieren also über die heruntergeladenen Bilddateien und lesen sie als `Image`-Objekt ein.\n",
    "Um die GIF-Datei nicht allzu groß werden zu lassen, können die Einzelbilder mit der `thumbnail`-Methode auf ein bestimmtes Maximalmaß reduziert werden.\n",
    "\n",
    "\n",
    "\n",
    "<div class=\"alert alert-block alert-info\">Der Code hierfür wurde von <a href=\"https://stackoverflow.com/questions/60562248/making-a-gif-using-pil-pillow\">hier</a> adaptiert.</div>"
   ]
  },
  {
   "cell_type": "code",
   "execution_count": null,
   "id": "57052209",
   "metadata": {},
   "outputs": [],
   "source": [
    "from PIL import Image"
   ]
  },
  {
   "cell_type": "code",
   "execution_count": null,
   "id": "34ee2790",
   "metadata": {},
   "outputs": [],
   "source": [
    "frames = []\n",
    "imgs = glob(\"schriftproben/*.jpg\")\n",
    "for i in imgs:\n",
    "    new_frame = Image.open(i)\n",
    "    new_frame.thumbnail((200,300))\n",
    "    frames.append(new_frame)\n",
    "    \n",
    "frames[0].save(\n",
    "    'img/SCHRIFTPROBE.gif',\n",
    "    format='GIF',\n",
    "    append_images=frames[0:],\n",
    "    save_all=True,\n",
    "    duration=200,\n",
    "    loop=0,\n",
    "    optimize=False,\n",
    "    transparency=0\n",
    ")"
   ]
  },
  {
   "cell_type": "markdown",
   "id": "0bdd933f",
   "metadata": {},
   "source": [
    "## Das Ergebnis"
   ]
  },
  {
   "cell_type": "markdown",
   "id": "01d4e0dc",
   "metadata": {},
   "source": [
    "![Ergebnis](img/SCHRIFTPROBE.gif)"
   ]
  }
 ],
 "metadata": {
  "kernelspec": {
   "display_name": "Python 3.9",
   "language": "python",
   "name": "python3.9"
  },
  "language_info": {
   "codemirror_mode": {
    "name": "ipython",
    "version": 3
   },
   "file_extension": ".py",
   "mimetype": "text/x-python",
   "name": "python",
   "nbconvert_exporter": "python",
   "pygments_lexer": "ipython3",
   "version": "3.9.0"
  }
 },
 "nbformat": 4,
 "nbformat_minor": 5
}
