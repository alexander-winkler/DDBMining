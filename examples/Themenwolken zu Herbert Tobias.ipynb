{
 "cells": [
  {
   "cell_type": "markdown",
   "id": "ca152b17",
   "metadata": {},
   "source": [
    "# Themenwolken zu den Fotografien Herbert Tobias'"
   ]
  },
  {
   "cell_type": "markdown",
   "id": "12cdaab4",
   "metadata": {},
   "source": [
    "Im Jahr 2019 digitalisierte die [Berlinische Galerie](https://berlinischegalerie.de/) im Rahmen des Förderprogramms von [digiS](https://www.digis-berlin.de) den fotografischen Nachlass [Herbert Tobias' (1924-1982)](https://de.wikipedia.org/wiki/Herbert_Tobias). Informationen zum Projekt finden sich auf der [entsprechenden digiS-Website](https://www.digis-berlin.de/projektpartner/archiv/projektpartner-2019/#tab-tb_4675047-3).\n",
    "\n",
    "Die Metadaten der 1491 Digitalisate sind über die [Deutsche Digitale Bibliothek](https://www.deutsche-digitale-bibliothek.de/searchresults?isThumbnailFiltered=true&query=%22Erworben+als+Schenkung+aus+dem+Nachlass+Herbert+Tobias%22) abrufbar (Suche nach `\"Erworben als Schenkung aus dem Nachlass Herbert Tobias\"`).\n",
    "\n",
    "![Ergebnisliste auf der DDB](img/ddb_tobias.png)\n",
    "\n",
    "Im Folgenden werden über die [DDB-API](https://labs.deutsche-digitale-bibliothek.de/app/ddbapi/) die Metadaten heruntergeladen, die Themen (\"subjects\") extrahiert und als Wortwolke dargestellt."
   ]
  },
  {
   "cell_type": "markdown",
   "id": "49211c75",
   "metadata": {},
   "source": [
    "## Import benötigter Module für den Download über DDB-API"
   ]
  },
  {
   "cell_type": "code",
   "execution_count": null,
   "id": "dd4f4499",
   "metadata": {},
   "outputs": [],
   "source": [
    "from ddbAPI_helpers import search2API, iterateAPICall # ddbAPI_helpers.py muss aktuell noch im selben Ordner wie das Notebook/Skript liegen"
   ]
  },
  {
   "cell_type": "markdown",
   "id": "9ddb9cbb",
   "metadata": {},
   "source": [
    "## Download der Metadaten über DDB-API"
   ]
  },
  {
   "cell_type": "markdown",
   "id": "5a7fb8bc",
   "metadata": {},
   "source": [
    "Für die Nutzung der DDB-API ist ein API-Key nötig.\n",
    "Dieser lässt sich nach der [Registrierung auf DDB](https://www.deutsche-digitale-bibliothek.de/login?referrer=%2Fuser%2Fapikey) erzeugen."
   ]
  },
  {
   "cell_type": "code",
   "execution_count": null,
   "id": "0bfcc5c4",
   "metadata": {},
   "outputs": [],
   "source": [
    "api_key = \"<API KEY>\""
   ]
  },
  {
   "cell_type": "markdown",
   "id": "49a1ee5e",
   "metadata": {},
   "source": [
    "Die Funktion `search2API` wandelt die über die Suchmaske generierte URL in einen API-Call für die DDB-API um.\n",
    "Mit `iterateAPICall` wird der API-Call so oft wiederholt, bis alle Daten heruntergeladen wurden.\n",
    "Durch `download = True` werden die Quell-Dateien (in diesem Fall [LIDO](https://cidoc.mini.icom.museum/working-groups/lido/lido-overview/lido-schema/)-XML-Dateien, vgl. hierzu die [entsprechende digiS-eLecture](https://www.digis-berlin.de/digis-metadaten-electure/#acc-tb_6czi336-1)) auf den Rechner geladen und können damit später schneller aufgerufen werden.\n",
    "Mit `targetdir` (optional) wird das Unterverzeichnis genannt, in das die heruntergeladenen Dateien gespeichert werden. Das Verzeichnis wird nötigenfalls angelegt."
   ]
  },
  {
   "cell_type": "code",
   "execution_count": null,
   "id": "6d7b4e84",
   "metadata": {
    "scrolled": true
   },
   "outputs": [],
   "source": [
    "apiurl = search2API(\"https://www.deutsche-digitale-bibliothek.de/searchresults?isThumbnailFiltered=true&query=%22+Erworben+als+Schenkung+aus+dem+Nachlass+Herbert+Tobias%22\", api_key)\n",
    "objects = iterateAPICall(apiurl, api_key, download = True, targetdir = \"herbert_tobias\")"
   ]
  },
  {
   "cell_type": "markdown",
   "id": "316ae772",
   "metadata": {},
   "source": [
    "## Auswertung der LIDO-Dateien"
   ]
  },
  {
   "cell_type": "markdown",
   "id": "3bcc0c41",
   "metadata": {},
   "source": [
    "Folgende Schritte haben nichts mehr mit der DDB-API zu tun, sie arbeiten mit den lokal gespeicherten LIDO-Dateien."
   ]
  },
  {
   "cell_type": "markdown",
   "id": "d761e46b",
   "metadata": {},
   "source": [
    "### Import der Module für die Auswertung und Visualisierung\n"
   ]
  },
  {
   "cell_type": "code",
   "execution_count": null,
   "id": "80511c38",
   "metadata": {},
   "outputs": [],
   "source": [
    "from glob import glob\n",
    "from lxml import etree\n",
    "from collections import Counter\n",
    "from wordcloud import WordCloud\n",
    "import matplotlib.pyplot as plt"
   ]
  },
  {
   "cell_type": "code",
   "execution_count": null,
   "id": "07b2f0df",
   "metadata": {},
   "outputs": [],
   "source": [
    "# Definition des LIDO-Namespace\n",
    "NSMAP = { 'lido' : \"http://www.lido-schema.org\"}"
   ]
  },
  {
   "cell_type": "code",
   "execution_count": null,
   "id": "cfbe1249",
   "metadata": {},
   "outputs": [],
   "source": [
    "subjectList = []\n",
    "for i in glob(\"herbert_tobias/*\"):\n",
    "    tree = etree.parse(i)\n",
    "    subjects = tree.findall('//lido:subjectSet/lido:displaySubject', NSMAP)\n",
    "    subjects = [x.text for x in subjects]\n",
    "    subjectList.extend(subjects)"
   ]
  },
  {
   "cell_type": "code",
   "execution_count": null,
   "id": "df67add2",
   "metadata": {},
   "outputs": [],
   "source": [
    "c = Counter(subjectList)"
   ]
  },
  {
   "cell_type": "code",
   "execution_count": null,
   "id": "2191fb0f",
   "metadata": {},
   "outputs": [],
   "source": [
    "wc = WordCloud(background_color = \"white\").fit_words(c)"
   ]
  },
  {
   "cell_type": "code",
   "execution_count": null,
   "id": "5ed8f837",
   "metadata": {},
   "outputs": [],
   "source": [
    "plt.imshow(wc, interpolation=\"bilinear\")\n",
    "plt.axis(\"off\")\n",
    "plt.savefig(\"img/themenwolke_tobias.png\", dpi=250)"
   ]
  },
  {
   "cell_type": "markdown",
   "id": "d4339c80",
   "metadata": {},
   "source": [
    "Das Ergebnis der Auswertung:\n",
    "\n",
    "![Wortwolke](img/themenwolke_tobias.png)"
   ]
  }
 ],
 "metadata": {
  "kernelspec": {
   "display_name": "Python 3.9",
   "language": "python",
   "name": "python3.9"
  },
  "language_info": {
   "codemirror_mode": {
    "name": "ipython",
    "version": 3
   },
   "file_extension": ".py",
   "mimetype": "text/x-python",
   "name": "python",
   "nbconvert_exporter": "python",
   "pygments_lexer": "ipython3",
   "version": "3.9.0"
  }
 },
 "nbformat": 4,
 "nbformat_minor": 5
}
